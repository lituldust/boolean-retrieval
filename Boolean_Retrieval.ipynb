{
  "cells": [
    {
      "cell_type": "markdown",
      "metadata": {
        "colab_type": "text",
        "id": "view-in-github"
      },
      "source": [
        "<a href=\"https://colab.research.google.com/github/lituldust/boolean-retrieval/blob/main/Boolean_Retrieval.ipynb\" target=\"_parent\"><img src=\"https://colab.research.google.com/assets/colab-badge.svg\" alt=\"Open In Colab\"/></a>"
      ]
    },
    {
      "cell_type": "markdown",
      "metadata": {
        "id": "xu5Od314yVMM"
      },
      "source": [
        "# Setup Environment dan Install Module"
      ]
    },
    {
      "cell_type": "code",
      "execution_count": null,
      "metadata": {
        "colab": {
          "base_uri": "https://localhost:8080/"
        },
        "collapsed": true,
        "id": "EIfQytjgXJGG",
        "outputId": "2fab5903-959a-47be-b7e2-a6c9b80f0aa8"
      },
      "outputs": [
        {
          "name": "stdout",
          "output_type": "stream",
          "text": [
            "Reading package lists... Done\n",
            "Building dependency tree... Done\n",
            "Reading state information... Done\n",
            "The following additional packages will be installed:\n",
            "  openjdk-21-jdk-headless openjdk-21-jre openjdk-21-jre-headless\n",
            "Suggested packages:\n",
            "  openjdk-21-demo openjdk-21-source visualvm libnss-mdns fonts-ipafont-gothic\n",
            "  fonts-ipafont-mincho fonts-wqy-microhei | fonts-wqy-zenhei fonts-indic\n",
            "The following NEW packages will be installed:\n",
            "  openjdk-21-jdk openjdk-21-jdk-headless openjdk-21-jre\n",
            "  openjdk-21-jre-headless\n",
            "0 upgraded, 4 newly installed, 0 to remove and 35 not upgraded.\n",
            "Need to get 131 MB of archives.\n",
            "After this operation, 301 MB of additional disk space will be used.\n",
            "Get:1 http://archive.ubuntu.com/ubuntu jammy-updates/universe amd64 openjdk-21-jre-headless amd64 21.0.8+9~us1-0ubuntu1~22.04.1 [46.8 MB]\n",
            "Get:2 http://archive.ubuntu.com/ubuntu jammy-updates/universe amd64 openjdk-21-jre amd64 21.0.8+9~us1-0ubuntu1~22.04.1 [234 kB]\n",
            "Get:3 http://archive.ubuntu.com/ubuntu jammy-updates/universe amd64 openjdk-21-jdk-headless amd64 21.0.8+9~us1-0ubuntu1~22.04.1 [82.7 MB]\n",
            "Get:4 http://archive.ubuntu.com/ubuntu jammy-updates/universe amd64 openjdk-21-jdk amd64 21.0.8+9~us1-0ubuntu1~22.04.1 [1,651 kB]\n",
            "Fetched 131 MB in 4s (32.4 MB/s)\n",
            "debconf: unable to initialize frontend: Dialog\n",
            "debconf: (No usable dialog-like program is installed, so the dialog based frontend cannot be used. at /usr/share/perl5/Debconf/FrontEnd/Dialog.pm line 78, <> line 4.)\n",
            "debconf: falling back to frontend: Readline\n",
            "debconf: unable to initialize frontend: Readline\n",
            "debconf: (This frontend requires a controlling tty.)\n",
            "debconf: falling back to frontend: Teletype\n",
            "dpkg-preconfigure: unable to re-open stdin: \n",
            "Selecting previously unselected package openjdk-21-jre-headless:amd64.\n",
            "(Reading database ... 127280 files and directories currently installed.)\n",
            "Preparing to unpack .../openjdk-21-jre-headless_21.0.8+9~us1-0ubuntu1~22.04.1_amd64.deb ...\n",
            "Unpacking openjdk-21-jre-headless:amd64 (21.0.8+9~us1-0ubuntu1~22.04.1) ...\n",
            "Selecting previously unselected package openjdk-21-jre:amd64.\n",
            "Preparing to unpack .../openjdk-21-jre_21.0.8+9~us1-0ubuntu1~22.04.1_amd64.deb ...\n",
            "Unpacking openjdk-21-jre:amd64 (21.0.8+9~us1-0ubuntu1~22.04.1) ...\n",
            "Selecting previously unselected package openjdk-21-jdk-headless:amd64.\n",
            "Preparing to unpack .../openjdk-21-jdk-headless_21.0.8+9~us1-0ubuntu1~22.04.1_amd64.deb ...\n",
            "Unpacking openjdk-21-jdk-headless:amd64 (21.0.8+9~us1-0ubuntu1~22.04.1) ...\n",
            "Selecting previously unselected package openjdk-21-jdk:amd64.\n",
            "Preparing to unpack .../openjdk-21-jdk_21.0.8+9~us1-0ubuntu1~22.04.1_amd64.deb ...\n",
            "Unpacking openjdk-21-jdk:amd64 (21.0.8+9~us1-0ubuntu1~22.04.1) ...\n",
            "Setting up openjdk-21-jre-headless:amd64 (21.0.8+9~us1-0ubuntu1~22.04.1) ...\n",
            "update-alternatives: using /usr/lib/jvm/java-21-openjdk-amd64/bin/java to provide /usr/bin/java (java) in auto mode\n",
            "update-alternatives: using /usr/lib/jvm/java-21-openjdk-amd64/bin/jpackage to provide /usr/bin/jpackage (jpackage) in auto mode\n",
            "update-alternatives: using /usr/lib/jvm/java-21-openjdk-amd64/bin/keytool to provide /usr/bin/keytool (keytool) in auto mode\n",
            "update-alternatives: using /usr/lib/jvm/java-21-openjdk-amd64/bin/rmiregistry to provide /usr/bin/rmiregistry (rmiregistry) in auto mode\n",
            "update-alternatives: using /usr/lib/jvm/java-21-openjdk-amd64/lib/jexec to provide /usr/bin/jexec (jexec) in auto mode\n",
            "Setting up openjdk-21-jre:amd64 (21.0.8+9~us1-0ubuntu1~22.04.1) ...\n",
            "Setting up openjdk-21-jdk-headless:amd64 (21.0.8+9~us1-0ubuntu1~22.04.1) ...\n",
            "update-alternatives: using /usr/lib/jvm/java-21-openjdk-amd64/bin/jar to provide /usr/bin/jar (jar) in auto mode\n",
            "update-alternatives: using /usr/lib/jvm/java-21-openjdk-amd64/bin/jarsigner to provide /usr/bin/jarsigner (jarsigner) in auto mode\n",
            "update-alternatives: using /usr/lib/jvm/java-21-openjdk-amd64/bin/javac to provide /usr/bin/javac (javac) in auto mode\n",
            "update-alternatives: using /usr/lib/jvm/java-21-openjdk-amd64/bin/javadoc to provide /usr/bin/javadoc (javadoc) in auto mode\n",
            "update-alternatives: using /usr/lib/jvm/java-21-openjdk-amd64/bin/javap to provide /usr/bin/javap (javap) in auto mode\n",
            "update-alternatives: using /usr/lib/jvm/java-21-openjdk-amd64/bin/jcmd to provide /usr/bin/jcmd (jcmd) in auto mode\n",
            "update-alternatives: using /usr/lib/jvm/java-21-openjdk-amd64/bin/jdb to provide /usr/bin/jdb (jdb) in auto mode\n",
            "update-alternatives: using /usr/lib/jvm/java-21-openjdk-amd64/bin/jdeprscan to provide /usr/bin/jdeprscan (jdeprscan) in auto mode\n",
            "update-alternatives: using /usr/lib/jvm/java-21-openjdk-amd64/bin/jdeps to provide /usr/bin/jdeps (jdeps) in auto mode\n",
            "update-alternatives: using /usr/lib/jvm/java-21-openjdk-amd64/bin/jfr to provide /usr/bin/jfr (jfr) in auto mode\n",
            "update-alternatives: using /usr/lib/jvm/java-21-openjdk-amd64/bin/jimage to provide /usr/bin/jimage (jimage) in auto mode\n",
            "update-alternatives: using /usr/lib/jvm/java-21-openjdk-amd64/bin/jinfo to provide /usr/bin/jinfo (jinfo) in auto mode\n",
            "update-alternatives: using /usr/lib/jvm/java-21-openjdk-amd64/bin/jlink to provide /usr/bin/jlink (jlink) in auto mode\n",
            "update-alternatives: using /usr/lib/jvm/java-21-openjdk-amd64/bin/jmap to provide /usr/bin/jmap (jmap) in auto mode\n",
            "update-alternatives: using /usr/lib/jvm/java-21-openjdk-amd64/bin/jmod to provide /usr/bin/jmod (jmod) in auto mode\n",
            "update-alternatives: using /usr/lib/jvm/java-21-openjdk-amd64/bin/jps to provide /usr/bin/jps (jps) in auto mode\n",
            "update-alternatives: using /usr/lib/jvm/java-21-openjdk-amd64/bin/jrunscript to provide /usr/bin/jrunscript (jrunscript) in auto mode\n",
            "update-alternatives: using /usr/lib/jvm/java-21-openjdk-amd64/bin/jshell to provide /usr/bin/jshell (jshell) in auto mode\n",
            "update-alternatives: using /usr/lib/jvm/java-21-openjdk-amd64/bin/jstack to provide /usr/bin/jstack (jstack) in auto mode\n",
            "update-alternatives: using /usr/lib/jvm/java-21-openjdk-amd64/bin/jstat to provide /usr/bin/jstat (jstat) in auto mode\n",
            "update-alternatives: using /usr/lib/jvm/java-21-openjdk-amd64/bin/jstatd to provide /usr/bin/jstatd (jstatd) in auto mode\n",
            "update-alternatives: using /usr/lib/jvm/java-21-openjdk-amd64/bin/jwebserver to provide /usr/bin/jwebserver (jwebserver) in auto mode\n",
            "update-alternatives: using /usr/lib/jvm/java-21-openjdk-amd64/bin/serialver to provide /usr/bin/serialver (serialver) in auto mode\n",
            "update-alternatives: using /usr/lib/jvm/java-21-openjdk-amd64/bin/jhsdb to provide /usr/bin/jhsdb (jhsdb) in auto mode\n",
            "Setting up openjdk-21-jdk:amd64 (21.0.8+9~us1-0ubuntu1~22.04.1) ...\n",
            "update-alternatives: using /usr/lib/jvm/java-21-openjdk-amd64/bin/jconsole to provide /usr/bin/jconsole (jconsole) in auto mode\n",
            "Processing triggers for hicolor-icon-theme (0.17-2) ...\n",
            "Processing triggers for mailcap (3.70+nmu1ubuntu1) ...\n"
          ]
        }
      ],
      "source": [
        "# Install java untuk indexing\n",
        "!sudo apt-get install openjdk-21-jdk -y"
      ]
    },
    {
      "cell_type": "code",
      "execution_count": null,
      "metadata": {
        "id": "0hSnCqxaXUCW"
      },
      "outputs": [],
      "source": [
        "# Setup environment java\n",
        "!export JAVA_HOME=/usr/lib/jvm/java-21-openjdk-amd64"
      ]
    },
    {
      "cell_type": "code",
      "execution_count": null,
      "metadata": {
        "colab": {
          "base_uri": "https://localhost:8080/"
        },
        "collapsed": true,
        "id": "Y9NRXgEMWJ1g",
        "outputId": "4c4fe38d-d2ce-45ec-a6f7-d7153cfaba6e"
      },
      "outputs": [
        {
          "name": "stdout",
          "output_type": "stream",
          "text": [
            "Collecting pyserini\n",
            "  Downloading pyserini-1.2.0.tar.gz (178.5 MB)\n",
            "\u001b[2K     \u001b[90m━━━━━━━━━━━━━━━━━━━━━━━━━━━━━━━━━━━━━━━\u001b[0m \u001b[32m178.5/178.5 MB\u001b[0m \u001b[31m7.2 MB/s\u001b[0m eta \u001b[36m0:00:00\u001b[0m\n",
            "\u001b[?25h  Installing build dependencies ... \u001b[?25l\u001b[?25hdone\n",
            "  Getting requirements to build wheel ... \u001b[?25l\u001b[?25hdone\n",
            "  Preparing metadata (pyproject.toml) ... \u001b[?25l\u001b[?25hdone\n",
            "Requirement already satisfied: tqdm in /usr/local/lib/python3.12/dist-packages (from pyserini) (4.67.1)\n",
            "Requirement already satisfied: pyyaml in /usr/local/lib/python3.12/dist-packages (from pyserini) (6.0.2)\n",
            "Requirement already satisfied: requests in /usr/local/lib/python3.12/dist-packages (from pyserini) (2.32.4)\n",
            "Requirement already satisfied: Cython>=0.29.21 in /usr/local/lib/python3.12/dist-packages (from pyserini) (3.0.12)\n",
            "Requirement already satisfied: numpy>=1.18.1 in /usr/local/lib/python3.12/dist-packages (from pyserini) (2.0.2)\n",
            "Requirement already satisfied: pandas>=1.4.0 in /usr/local/lib/python3.12/dist-packages (from pyserini) (2.2.2)\n",
            "Collecting pyjnius>=1.6.0 (from pyserini)\n",
            "  Downloading pyjnius-1.6.1-cp312-cp312-manylinux_2_17_x86_64.manylinux2014_x86_64.whl.metadata (10 kB)\n",
            "Requirement already satisfied: scikit-learn>=0.22.1 in /usr/local/lib/python3.12/dist-packages (from pyserini) (1.6.1)\n",
            "Requirement already satisfied: scipy>=1.4.1 in /usr/local/lib/python3.12/dist-packages (from pyserini) (1.16.1)\n",
            "Requirement already satisfied: transformers>=4.6.0 in /usr/local/lib/python3.12/dist-packages (from pyserini) (4.55.2)\n",
            "Requirement already satisfied: torch>=2.4.0 in /usr/local/lib/python3.12/dist-packages (from pyserini) (2.8.0+cu126)\n",
            "Collecting onnxruntime>=1.8.1 (from pyserini)\n",
            "  Downloading onnxruntime-1.22.1-cp312-cp312-manylinux_2_27_x86_64.manylinux_2_28_x86_64.whl.metadata (4.9 kB)\n",
            "Requirement already satisfied: openai>=1.0.0 in /usr/local/lib/python3.12/dist-packages (from pyserini) (1.100.0)\n",
            "Requirement already satisfied: sentencepiece>=0.2 in /usr/local/lib/python3.12/dist-packages (from pyserini) (0.2.1)\n",
            "Requirement already satisfied: tiktoken>=0.4.0 in /usr/local/lib/python3.12/dist-packages (from pyserini) (0.11.0)\n",
            "Requirement already satisfied: flask>3.0 in /usr/local/lib/python3.12/dist-packages (from pyserini) (3.1.1)\n",
            "Requirement already satisfied: pillow>=10.2.0 in /usr/local/lib/python3.12/dist-packages (from pyserini) (11.3.0)\n",
            "Requirement already satisfied: fastapi>=0.70.0 in /usr/local/lib/python3.12/dist-packages (from pyserini) (0.116.1)\n",
            "Requirement already satisfied: uvicorn>=0.13.0 in /usr/local/lib/python3.12/dist-packages (from pyserini) (0.35.0)\n",
            "Requirement already satisfied: mcp>=1.9.4 in /usr/local/lib/python3.12/dist-packages (from pyserini) (1.13.0)\n",
            "Requirement already satisfied: starlette<0.48.0,>=0.40.0 in /usr/local/lib/python3.12/dist-packages (from fastapi>=0.70.0->pyserini) (0.47.2)\n",
            "Requirement already satisfied: pydantic!=1.8,!=1.8.1,!=2.0.0,!=2.0.1,!=2.1.0,<3.0.0,>=1.7.4 in /usr/local/lib/python3.12/dist-packages (from fastapi>=0.70.0->pyserini) (2.11.7)\n",
            "Requirement already satisfied: typing-extensions>=4.8.0 in /usr/local/lib/python3.12/dist-packages (from fastapi>=0.70.0->pyserini) (4.14.1)\n",
            "Requirement already satisfied: blinker>=1.9.0 in /usr/local/lib/python3.12/dist-packages (from flask>3.0->pyserini) (1.9.0)\n",
            "Requirement already satisfied: click>=8.1.3 in /usr/local/lib/python3.12/dist-packages (from flask>3.0->pyserini) (8.2.1)\n",
            "Requirement already satisfied: itsdangerous>=2.2.0 in /usr/local/lib/python3.12/dist-packages (from flask>3.0->pyserini) (2.2.0)\n",
            "Requirement already satisfied: jinja2>=3.1.2 in /usr/local/lib/python3.12/dist-packages (from flask>3.0->pyserini) (3.1.6)\n",
            "Requirement already satisfied: markupsafe>=2.1.1 in /usr/local/lib/python3.12/dist-packages (from flask>3.0->pyserini) (3.0.2)\n",
            "Requirement already satisfied: werkzeug>=3.1.0 in /usr/local/lib/python3.12/dist-packages (from flask>3.0->pyserini) (3.1.3)\n",
            "Requirement already satisfied: anyio>=4.5 in /usr/local/lib/python3.12/dist-packages (from mcp>=1.9.4->pyserini) (4.10.0)\n",
            "Requirement already satisfied: httpx-sse>=0.4 in /usr/local/lib/python3.12/dist-packages (from mcp>=1.9.4->pyserini) (0.4.1)\n",
            "Requirement already satisfied: httpx>=0.27.1 in /usr/local/lib/python3.12/dist-packages (from mcp>=1.9.4->pyserini) (0.28.1)\n",
            "Requirement already satisfied: jsonschema>=4.20.0 in /usr/local/lib/python3.12/dist-packages (from mcp>=1.9.4->pyserini) (4.25.1)\n",
            "Requirement already satisfied: pydantic-settings>=2.5.2 in /usr/local/lib/python3.12/dist-packages (from mcp>=1.9.4->pyserini) (2.10.1)\n",
            "Requirement already satisfied: python-multipart>=0.0.9 in /usr/local/lib/python3.12/dist-packages (from mcp>=1.9.4->pyserini) (0.0.20)\n",
            "Requirement already satisfied: sse-starlette>=1.6.1 in /usr/local/lib/python3.12/dist-packages (from mcp>=1.9.4->pyserini) (3.0.2)\n",
            "Collecting coloredlogs (from onnxruntime>=1.8.1->pyserini)\n",
            "  Downloading coloredlogs-15.0.1-py2.py3-none-any.whl.metadata (12 kB)\n",
            "Requirement already satisfied: flatbuffers in /usr/local/lib/python3.12/dist-packages (from onnxruntime>=1.8.1->pyserini) (25.2.10)\n",
            "Requirement already satisfied: packaging in /usr/local/lib/python3.12/dist-packages (from onnxruntime>=1.8.1->pyserini) (25.0)\n",
            "Requirement already satisfied: protobuf in /usr/local/lib/python3.12/dist-packages (from onnxruntime>=1.8.1->pyserini) (5.29.5)\n",
            "Requirement already satisfied: sympy in /usr/local/lib/python3.12/dist-packages (from onnxruntime>=1.8.1->pyserini) (1.13.3)\n",
            "Requirement already satisfied: distro<2,>=1.7.0 in /usr/local/lib/python3.12/dist-packages (from openai>=1.0.0->pyserini) (1.9.0)\n",
            "Requirement already satisfied: jiter<1,>=0.4.0 in /usr/local/lib/python3.12/dist-packages (from openai>=1.0.0->pyserini) (0.10.0)\n",
            "Requirement already satisfied: sniffio in /usr/local/lib/python3.12/dist-packages (from openai>=1.0.0->pyserini) (1.3.1)\n",
            "Requirement already satisfied: python-dateutil>=2.8.2 in /usr/local/lib/python3.12/dist-packages (from pandas>=1.4.0->pyserini) (2.9.0.post0)\n",
            "Requirement already satisfied: pytz>=2020.1 in /usr/local/lib/python3.12/dist-packages (from pandas>=1.4.0->pyserini) (2025.2)\n",
            "Requirement already satisfied: tzdata>=2022.7 in /usr/local/lib/python3.12/dist-packages (from pandas>=1.4.0->pyserini) (2025.2)\n",
            "Requirement already satisfied: joblib>=1.2.0 in /usr/local/lib/python3.12/dist-packages (from scikit-learn>=0.22.1->pyserini) (1.5.1)\n",
            "Requirement already satisfied: threadpoolctl>=3.1.0 in /usr/local/lib/python3.12/dist-packages (from scikit-learn>=0.22.1->pyserini) (3.6.0)\n",
            "Requirement already satisfied: regex>=2022.1.18 in /usr/local/lib/python3.12/dist-packages (from tiktoken>=0.4.0->pyserini) (2024.11.6)\n",
            "Requirement already satisfied: charset_normalizer<4,>=2 in /usr/local/lib/python3.12/dist-packages (from requests->pyserini) (3.4.3)\n",
            "Requirement already satisfied: idna<4,>=2.5 in /usr/local/lib/python3.12/dist-packages (from requests->pyserini) (3.10)\n",
            "Requirement already satisfied: urllib3<3,>=1.21.1 in /usr/local/lib/python3.12/dist-packages (from requests->pyserini) (2.5.0)\n",
            "Requirement already satisfied: certifi>=2017.4.17 in /usr/local/lib/python3.12/dist-packages (from requests->pyserini) (2025.8.3)\n",
            "Requirement already satisfied: filelock in /usr/local/lib/python3.12/dist-packages (from torch>=2.4.0->pyserini) (3.19.1)\n",
            "Requirement already satisfied: setuptools in /usr/local/lib/python3.12/dist-packages (from torch>=2.4.0->pyserini) (75.2.0)\n",
            "Requirement already satisfied: networkx in /usr/local/lib/python3.12/dist-packages (from torch>=2.4.0->pyserini) (3.5)\n",
            "Requirement already satisfied: fsspec in /usr/local/lib/python3.12/dist-packages (from torch>=2.4.0->pyserini) (2025.3.0)\n",
            "Requirement already satisfied: nvidia-cuda-nvrtc-cu12==12.6.77 in /usr/local/lib/python3.12/dist-packages (from torch>=2.4.0->pyserini) (12.6.77)\n",
            "Requirement already satisfied: nvidia-cuda-runtime-cu12==12.6.77 in /usr/local/lib/python3.12/dist-packages (from torch>=2.4.0->pyserini) (12.6.77)\n",
            "Requirement already satisfied: nvidia-cuda-cupti-cu12==12.6.80 in /usr/local/lib/python3.12/dist-packages (from torch>=2.4.0->pyserini) (12.6.80)\n",
            "Requirement already satisfied: nvidia-cudnn-cu12==9.10.2.21 in /usr/local/lib/python3.12/dist-packages (from torch>=2.4.0->pyserini) (9.10.2.21)\n",
            "Requirement already satisfied: nvidia-cublas-cu12==12.6.4.1 in /usr/local/lib/python3.12/dist-packages (from torch>=2.4.0->pyserini) (12.6.4.1)\n",
            "Requirement already satisfied: nvidia-cufft-cu12==11.3.0.4 in /usr/local/lib/python3.12/dist-packages (from torch>=2.4.0->pyserini) (11.3.0.4)\n",
            "Requirement already satisfied: nvidia-curand-cu12==10.3.7.77 in /usr/local/lib/python3.12/dist-packages (from torch>=2.4.0->pyserini) (10.3.7.77)\n",
            "Requirement already satisfied: nvidia-cusolver-cu12==11.7.1.2 in /usr/local/lib/python3.12/dist-packages (from torch>=2.4.0->pyserini) (11.7.1.2)\n",
            "Requirement already satisfied: nvidia-cusparse-cu12==12.5.4.2 in /usr/local/lib/python3.12/dist-packages (from torch>=2.4.0->pyserini) (12.5.4.2)\n",
            "Requirement already satisfied: nvidia-cusparselt-cu12==0.7.1 in /usr/local/lib/python3.12/dist-packages (from torch>=2.4.0->pyserini) (0.7.1)\n",
            "Requirement already satisfied: nvidia-nccl-cu12==2.27.3 in /usr/local/lib/python3.12/dist-packages (from torch>=2.4.0->pyserini) (2.27.3)\n",
            "Requirement already satisfied: nvidia-nvtx-cu12==12.6.77 in /usr/local/lib/python3.12/dist-packages (from torch>=2.4.0->pyserini) (12.6.77)\n",
            "Requirement already satisfied: nvidia-nvjitlink-cu12==12.6.85 in /usr/local/lib/python3.12/dist-packages (from torch>=2.4.0->pyserini) (12.6.85)\n",
            "Requirement already satisfied: nvidia-cufile-cu12==1.11.1.6 in /usr/local/lib/python3.12/dist-packages (from torch>=2.4.0->pyserini) (1.11.1.6)\n",
            "Requirement already satisfied: triton==3.4.0 in /usr/local/lib/python3.12/dist-packages (from torch>=2.4.0->pyserini) (3.4.0)\n",
            "Requirement already satisfied: huggingface-hub<1.0,>=0.34.0 in /usr/local/lib/python3.12/dist-packages (from transformers>=4.6.0->pyserini) (0.34.4)\n",
            "Requirement already satisfied: tokenizers<0.22,>=0.21 in /usr/local/lib/python3.12/dist-packages (from transformers>=4.6.0->pyserini) (0.21.4)\n",
            "Requirement already satisfied: safetensors>=0.4.3 in /usr/local/lib/python3.12/dist-packages (from transformers>=4.6.0->pyserini) (0.6.2)\n",
            "Requirement already satisfied: h11>=0.8 in /usr/local/lib/python3.12/dist-packages (from uvicorn>=0.13.0->pyserini) (0.16.0)\n",
            "Requirement already satisfied: httpcore==1.* in /usr/local/lib/python3.12/dist-packages (from httpx>=0.27.1->mcp>=1.9.4->pyserini) (1.0.9)\n",
            "Requirement already satisfied: hf-xet<2.0.0,>=1.1.3 in /usr/local/lib/python3.12/dist-packages (from huggingface-hub<1.0,>=0.34.0->transformers>=4.6.0->pyserini) (1.1.7)\n",
            "Requirement already satisfied: attrs>=22.2.0 in /usr/local/lib/python3.12/dist-packages (from jsonschema>=4.20.0->mcp>=1.9.4->pyserini) (25.3.0)\n",
            "Requirement already satisfied: jsonschema-specifications>=2023.03.6 in /usr/local/lib/python3.12/dist-packages (from jsonschema>=4.20.0->mcp>=1.9.4->pyserini) (2025.4.1)\n",
            "Requirement already satisfied: referencing>=0.28.4 in /usr/local/lib/python3.12/dist-packages (from jsonschema>=4.20.0->mcp>=1.9.4->pyserini) (0.36.2)\n",
            "Requirement already satisfied: rpds-py>=0.7.1 in /usr/local/lib/python3.12/dist-packages (from jsonschema>=4.20.0->mcp>=1.9.4->pyserini) (0.27.0)\n",
            "Requirement already satisfied: annotated-types>=0.6.0 in /usr/local/lib/python3.12/dist-packages (from pydantic!=1.8,!=1.8.1,!=2.0.0,!=2.0.1,!=2.1.0,<3.0.0,>=1.7.4->fastapi>=0.70.0->pyserini) (0.7.0)\n",
            "Requirement already satisfied: pydantic-core==2.33.2 in /usr/local/lib/python3.12/dist-packages (from pydantic!=1.8,!=1.8.1,!=2.0.0,!=2.0.1,!=2.1.0,<3.0.0,>=1.7.4->fastapi>=0.70.0->pyserini) (2.33.2)\n",
            "Requirement already satisfied: typing-inspection>=0.4.0 in /usr/local/lib/python3.12/dist-packages (from pydantic!=1.8,!=1.8.1,!=2.0.0,!=2.0.1,!=2.1.0,<3.0.0,>=1.7.4->fastapi>=0.70.0->pyserini) (0.4.1)\n",
            "Requirement already satisfied: python-dotenv>=0.21.0 in /usr/local/lib/python3.12/dist-packages (from pydantic-settings>=2.5.2->mcp>=1.9.4->pyserini) (1.1.1)\n",
            "Requirement already satisfied: six>=1.5 in /usr/local/lib/python3.12/dist-packages (from python-dateutil>=2.8.2->pandas>=1.4.0->pyserini) (1.17.0)\n",
            "Requirement already satisfied: mpmath<1.4,>=1.1.0 in /usr/local/lib/python3.12/dist-packages (from sympy->onnxruntime>=1.8.1->pyserini) (1.3.0)\n",
            "Collecting humanfriendly>=9.1 (from coloredlogs->onnxruntime>=1.8.1->pyserini)\n",
            "  Downloading humanfriendly-10.0-py2.py3-none-any.whl.metadata (9.2 kB)\n",
            "Downloading onnxruntime-1.22.1-cp312-cp312-manylinux_2_27_x86_64.manylinux_2_28_x86_64.whl (16.5 MB)\n",
            "\u001b[2K   \u001b[90m━━━━━━━━━━━━━━━━━━━━━━━━━━━━━━━━━━━━━━━━\u001b[0m \u001b[32m16.5/16.5 MB\u001b[0m \u001b[31m93.5 MB/s\u001b[0m eta \u001b[36m0:00:00\u001b[0m\n",
            "\u001b[?25hDownloading pyjnius-1.6.1-cp312-cp312-manylinux_2_17_x86_64.manylinux2014_x86_64.whl (1.6 MB)\n",
            "\u001b[2K   \u001b[90m━━━━━━━━━━━━━━━━━━━━━━━━━━━━━━━━━━━━━━━━\u001b[0m \u001b[32m1.6/1.6 MB\u001b[0m \u001b[31m62.9 MB/s\u001b[0m eta \u001b[36m0:00:00\u001b[0m\n",
            "\u001b[?25hDownloading coloredlogs-15.0.1-py2.py3-none-any.whl (46 kB)\n",
            "\u001b[2K   \u001b[90m━━━━━━━━━━━━━━━━━━━━━━━━━━━━━━━━━━━━━━━━\u001b[0m \u001b[32m46.0/46.0 kB\u001b[0m \u001b[31m2.6 MB/s\u001b[0m eta \u001b[36m0:00:00\u001b[0m\n",
            "\u001b[?25hDownloading humanfriendly-10.0-py2.py3-none-any.whl (86 kB)\n",
            "\u001b[2K   \u001b[90m━━━━━━━━━━━━━━━━━━━━━━━━━━━━━━━━━━━━━━━━\u001b[0m \u001b[32m86.8/86.8 kB\u001b[0m \u001b[31m5.4 MB/s\u001b[0m eta \u001b[36m0:00:00\u001b[0m\n",
            "\u001b[?25hBuilding wheels for collected packages: pyserini\n",
            "  Building wheel for pyserini (pyproject.toml) ... \u001b[?25l\u001b[?25hdone\n",
            "  Created wheel for pyserini: filename=pyserini-1.2.0-py3-none-any.whl size=178598081 sha256=44b28cdb2509ff163ffb0327062a22f97b75dd1dd0a88d1c16dacdd68096d3df\n",
            "  Stored in directory: /root/.cache/pip/wheels/99/3c/47/189aae2f812e08fce8ecb5c04c8a58c35b6a6d88214a38d7fd\n",
            "Successfully built pyserini\n",
            "Installing collected packages: pyjnius, humanfriendly, coloredlogs, onnxruntime, pyserini\n",
            "Successfully installed coloredlogs-15.0.1 humanfriendly-10.0 onnxruntime-1.22.1 pyjnius-1.6.1 pyserini-1.2.0\n"
          ]
        }
      ],
      "source": [
        "!pip install pyserini"
      ]
    },
    {
      "cell_type": "code",
      "execution_count": null,
      "metadata": {
        "colab": {
          "base_uri": "https://localhost:8080/"
        },
        "collapsed": true,
        "id": "B6FXWMraWMMA",
        "outputId": "91abc8db-a892-440e-b2aa-0b5988db7296"
      },
      "outputs": [
        {
          "name": "stdout",
          "output_type": "stream",
          "text": [
            "Requirement already satisfied: nltk in /usr/local/lib/python3.12/dist-packages (3.9.1)\n",
            "Requirement already satisfied: click in /usr/local/lib/python3.12/dist-packages (from nltk) (8.2.1)\n",
            "Requirement already satisfied: joblib in /usr/local/lib/python3.12/dist-packages (from nltk) (1.5.1)\n",
            "Requirement already satisfied: regex>=2021.8.3 in /usr/local/lib/python3.12/dist-packages (from nltk) (2024.11.6)\n",
            "Requirement already satisfied: tqdm in /usr/local/lib/python3.12/dist-packages (from nltk) (4.67.1)\n"
          ]
        }
      ],
      "source": [
        "!pip install nltk"
      ]
    },
    {
      "cell_type": "markdown",
      "metadata": {
        "id": "3_ZHuhLpybAG"
      },
      "source": [
        "# Import Module yang Diperlukan"
      ]
    },
    {
      "cell_type": "code",
      "execution_count": 1,
      "metadata": {
        "colab": {
          "base_uri": "https://localhost:8080/"
        },
        "id": "2m_bxh5hWcpC",
        "outputId": "e8e82955-c3e7-4e9f-9538-24d083b9e3fd"
      },
      "outputs": [
        {
          "name": "stderr",
          "output_type": "stream",
          "text": [
            "[nltk_data] Downloading package stopwords to\n",
            "[nltk_data]     C:\\Users\\HP\\AppData\\Roaming\\nltk_data...\n",
            "[nltk_data]   Package stopwords is already up-to-date!\n"
          ]
        },
        {
          "data": {
            "text/plain": [
              "True"
            ]
          },
          "execution_count": 1,
          "metadata": {},
          "output_type": "execute_result"
        }
      ],
      "source": [
        "import nltk\n",
        "\n",
        "# Downoad stopwords\n",
        "nltk.download('stopwords')"
      ]
    },
    {
      "cell_type": "code",
      "execution_count": 2,
      "metadata": {
        "id": "xmH4J4XjWfnm"
      },
      "outputs": [],
      "source": [
        "import pandas as pd\n",
        "import json\n",
        "import os\n",
        "import string"
      ]
    },
    {
      "cell_type": "markdown",
      "metadata": {
        "id": "SJUPmhaVyefn"
      },
      "source": [
        "# Membuat DataFrame"
      ]
    },
    {
      "cell_type": "code",
      "execution_count": 3,
      "metadata": {
        "id": "ub81PFv6Wn64"
      },
      "outputs": [],
      "source": [
        "docs = [\n",
        "  (\"d1\",  \"The cat chased a small mouse into the garden.\"),\n",
        "  (\"d2\",  \"A friendly dog played fetch by the river.\"),\n",
        "  (\"d3\",  \"BM25 is a ranking function widely used in search engines.\"),\n",
        "  (\"d4\",  \"Boolean retrieval uses logical operators like AND and OR.\"),\n",
        "  (\"d5\",  \"TF-IDF weights terms by frequency and rarity.\"),\n",
        "  (\"d6\",  \"Neural retrieval uses dense embeddings for semantic search.\"),\n",
        "  (\"d7\",  \"The dog and the cat slept on the same couch.\"),\n",
        "  (\"d8\",  \"The library hosts a workshop on information retrieval.\"),\n",
        "  (\"d9\",  \"Students implemented BM25 and compared it with TF-IDF.\"),\n",
        "  (\"d10\", \"The chef roasted chicken with rosemary and garlic.\"),\n",
        "  (\"d11\", \"A black cat crossed the old stone bridge at night.\"),\n",
        "  (\"d12\", \"Dogs are loyal companions during long hikes.\"),\n",
        "  (\"d13\", \"The dataset contains fifteen short sentences for testing.\"),\n",
        "  (\"d14\", \"Reranking models reorder BM25 candidates using transformers.\"),\n",
        "  (\"d15\", \"The dog sniffed a cat but ignored the mouse.\")\n",
        "]"
      ]
    },
    {
      "cell_type": "code",
      "execution_count": 4,
      "metadata": {
        "colab": {
          "base_uri": "https://localhost:8080/",
          "height": 520
        },
        "id": "BULMamggWp0P",
        "outputId": "5d5caaad-2446-45aa-ab58-0d4cd9c1c520"
      },
      "outputs": [
        {
          "data": {
            "text/html": [
              "<div>\n",
              "<style scoped>\n",
              "    .dataframe tbody tr th:only-of-type {\n",
              "        vertical-align: middle;\n",
              "    }\n",
              "\n",
              "    .dataframe tbody tr th {\n",
              "        vertical-align: top;\n",
              "    }\n",
              "\n",
              "    .dataframe thead th {\n",
              "        text-align: right;\n",
              "    }\n",
              "</style>\n",
              "<table border=\"1\" class=\"dataframe\">\n",
              "  <thead>\n",
              "    <tr style=\"text-align: right;\">\n",
              "      <th></th>\n",
              "      <th>doc_id</th>\n",
              "      <th>doc_text</th>\n",
              "    </tr>\n",
              "  </thead>\n",
              "  <tbody>\n",
              "    <tr>\n",
              "      <th>0</th>\n",
              "      <td>d1</td>\n",
              "      <td>The cat chased a small mouse into the garden.</td>\n",
              "    </tr>\n",
              "    <tr>\n",
              "      <th>1</th>\n",
              "      <td>d2</td>\n",
              "      <td>A friendly dog played fetch by the river.</td>\n",
              "    </tr>\n",
              "    <tr>\n",
              "      <th>2</th>\n",
              "      <td>d3</td>\n",
              "      <td>BM25 is a ranking function widely used in sear...</td>\n",
              "    </tr>\n",
              "    <tr>\n",
              "      <th>3</th>\n",
              "      <td>d4</td>\n",
              "      <td>Boolean retrieval uses logical operators like ...</td>\n",
              "    </tr>\n",
              "    <tr>\n",
              "      <th>4</th>\n",
              "      <td>d5</td>\n",
              "      <td>TF-IDF weights terms by frequency and rarity.</td>\n",
              "    </tr>\n",
              "    <tr>\n",
              "      <th>5</th>\n",
              "      <td>d6</td>\n",
              "      <td>Neural retrieval uses dense embeddings for sem...</td>\n",
              "    </tr>\n",
              "    <tr>\n",
              "      <th>6</th>\n",
              "      <td>d7</td>\n",
              "      <td>The dog and the cat slept on the same couch.</td>\n",
              "    </tr>\n",
              "    <tr>\n",
              "      <th>7</th>\n",
              "      <td>d8</td>\n",
              "      <td>The library hosts a workshop on information re...</td>\n",
              "    </tr>\n",
              "    <tr>\n",
              "      <th>8</th>\n",
              "      <td>d9</td>\n",
              "      <td>Students implemented BM25 and compared it with...</td>\n",
              "    </tr>\n",
              "    <tr>\n",
              "      <th>9</th>\n",
              "      <td>d10</td>\n",
              "      <td>The chef roasted chicken with rosemary and gar...</td>\n",
              "    </tr>\n",
              "    <tr>\n",
              "      <th>10</th>\n",
              "      <td>d11</td>\n",
              "      <td>A black cat crossed the old stone bridge at ni...</td>\n",
              "    </tr>\n",
              "    <tr>\n",
              "      <th>11</th>\n",
              "      <td>d12</td>\n",
              "      <td>Dogs are loyal companions during long hikes.</td>\n",
              "    </tr>\n",
              "    <tr>\n",
              "      <th>12</th>\n",
              "      <td>d13</td>\n",
              "      <td>The dataset contains fifteen short sentences f...</td>\n",
              "    </tr>\n",
              "    <tr>\n",
              "      <th>13</th>\n",
              "      <td>d14</td>\n",
              "      <td>Reranking models reorder BM25 candidates using...</td>\n",
              "    </tr>\n",
              "    <tr>\n",
              "      <th>14</th>\n",
              "      <td>d15</td>\n",
              "      <td>The dog sniffed a cat but ignored the mouse.</td>\n",
              "    </tr>\n",
              "  </tbody>\n",
              "</table>\n",
              "</div>"
            ],
            "text/plain": [
              "   doc_id                                           doc_text\n",
              "0      d1      The cat chased a small mouse into the garden.\n",
              "1      d2          A friendly dog played fetch by the river.\n",
              "2      d3  BM25 is a ranking function widely used in sear...\n",
              "3      d4  Boolean retrieval uses logical operators like ...\n",
              "4      d5      TF-IDF weights terms by frequency and rarity.\n",
              "5      d6  Neural retrieval uses dense embeddings for sem...\n",
              "6      d7       The dog and the cat slept on the same couch.\n",
              "7      d8  The library hosts a workshop on information re...\n",
              "8      d9  Students implemented BM25 and compared it with...\n",
              "9     d10  The chef roasted chicken with rosemary and gar...\n",
              "10    d11  A black cat crossed the old stone bridge at ni...\n",
              "11    d12       Dogs are loyal companions during long hikes.\n",
              "12    d13  The dataset contains fifteen short sentences f...\n",
              "13    d14  Reranking models reorder BM25 candidates using...\n",
              "14    d15       The dog sniffed a cat but ignored the mouse."
            ]
          },
          "execution_count": 4,
          "metadata": {},
          "output_type": "execute_result"
        }
      ],
      "source": [
        "df = pd.DataFrame(docs, columns=['doc_id', 'doc_text'])\n",
        "df"
      ]
    },
    {
      "cell_type": "markdown",
      "metadata": {
        "id": "Mo1fnvO0yh15"
      },
      "source": [
        "# Preprocessing"
      ]
    },
    {
      "cell_type": "code",
      "execution_count": 5,
      "metadata": {
        "id": "dd_Nj1xFWrJX"
      },
      "outputs": [],
      "source": [
        "# Preprocessing\n",
        "df['doc_text'] = df['doc_text'].apply(lambda x: x.lower())  # Lowercase\n",
        "df['doc_text'] = df['doc_text'].apply(lambda x: ' '.join([word for word in x.split() if word not in nltk.corpus.stopwords.words('english')])) # Remove Stopword\n",
        "df['doc_text'] = df['doc_text'].apply(lambda x: ''.join([char for char in x if char not in string.punctuation])) # Remove Punctuation"
      ]
    },
    {
      "cell_type": "code",
      "execution_count": 6,
      "metadata": {
        "colab": {
          "base_uri": "https://localhost:8080/",
          "height": 520
        },
        "id": "2NztOb5wWtZP",
        "outputId": "fec4d4c0-1da0-461e-a6b9-2785cb5ce871"
      },
      "outputs": [
        {
          "data": {
            "text/html": [
              "<div>\n",
              "<style scoped>\n",
              "    .dataframe tbody tr th:only-of-type {\n",
              "        vertical-align: middle;\n",
              "    }\n",
              "\n",
              "    .dataframe tbody tr th {\n",
              "        vertical-align: top;\n",
              "    }\n",
              "\n",
              "    .dataframe thead th {\n",
              "        text-align: right;\n",
              "    }\n",
              "</style>\n",
              "<table border=\"1\" class=\"dataframe\">\n",
              "  <thead>\n",
              "    <tr style=\"text-align: right;\">\n",
              "      <th></th>\n",
              "      <th>doc_id</th>\n",
              "      <th>doc_text</th>\n",
              "    </tr>\n",
              "  </thead>\n",
              "  <tbody>\n",
              "    <tr>\n",
              "      <th>0</th>\n",
              "      <td>d1</td>\n",
              "      <td>cat chased small mouse garden</td>\n",
              "    </tr>\n",
              "    <tr>\n",
              "      <th>1</th>\n",
              "      <td>d2</td>\n",
              "      <td>friendly dog played fetch river</td>\n",
              "    </tr>\n",
              "    <tr>\n",
              "      <th>2</th>\n",
              "      <td>d3</td>\n",
              "      <td>bm25 ranking function widely used search engines</td>\n",
              "    </tr>\n",
              "    <tr>\n",
              "      <th>3</th>\n",
              "      <td>d4</td>\n",
              "      <td>boolean retrieval uses logical operators like or</td>\n",
              "    </tr>\n",
              "    <tr>\n",
              "      <th>4</th>\n",
              "      <td>d5</td>\n",
              "      <td>tfidf weights terms frequency rarity</td>\n",
              "    </tr>\n",
              "    <tr>\n",
              "      <th>5</th>\n",
              "      <td>d6</td>\n",
              "      <td>neural retrieval uses dense embeddings semanti...</td>\n",
              "    </tr>\n",
              "    <tr>\n",
              "      <th>6</th>\n",
              "      <td>d7</td>\n",
              "      <td>dog cat slept couch</td>\n",
              "    </tr>\n",
              "    <tr>\n",
              "      <th>7</th>\n",
              "      <td>d8</td>\n",
              "      <td>library hosts workshop information retrieval</td>\n",
              "    </tr>\n",
              "    <tr>\n",
              "      <th>8</th>\n",
              "      <td>d9</td>\n",
              "      <td>students implemented bm25 compared tfidf</td>\n",
              "    </tr>\n",
              "    <tr>\n",
              "      <th>9</th>\n",
              "      <td>d10</td>\n",
              "      <td>chef roasted chicken rosemary garlic</td>\n",
              "    </tr>\n",
              "    <tr>\n",
              "      <th>10</th>\n",
              "      <td>d11</td>\n",
              "      <td>black cat crossed old stone bridge night</td>\n",
              "    </tr>\n",
              "    <tr>\n",
              "      <th>11</th>\n",
              "      <td>d12</td>\n",
              "      <td>dogs loyal companions long hikes</td>\n",
              "    </tr>\n",
              "    <tr>\n",
              "      <th>12</th>\n",
              "      <td>d13</td>\n",
              "      <td>dataset contains fifteen short sentences testing</td>\n",
              "    </tr>\n",
              "    <tr>\n",
              "      <th>13</th>\n",
              "      <td>d14</td>\n",
              "      <td>reranking models reorder bm25 candidates using...</td>\n",
              "    </tr>\n",
              "    <tr>\n",
              "      <th>14</th>\n",
              "      <td>d15</td>\n",
              "      <td>dog sniffed cat ignored mouse</td>\n",
              "    </tr>\n",
              "  </tbody>\n",
              "</table>\n",
              "</div>"
            ],
            "text/plain": [
              "   doc_id                                           doc_text\n",
              "0      d1                      cat chased small mouse garden\n",
              "1      d2                    friendly dog played fetch river\n",
              "2      d3   bm25 ranking function widely used search engines\n",
              "3      d4   boolean retrieval uses logical operators like or\n",
              "4      d5               tfidf weights terms frequency rarity\n",
              "5      d6  neural retrieval uses dense embeddings semanti...\n",
              "6      d7                                dog cat slept couch\n",
              "7      d8       library hosts workshop information retrieval\n",
              "8      d9           students implemented bm25 compared tfidf\n",
              "9     d10               chef roasted chicken rosemary garlic\n",
              "10    d11           black cat crossed old stone bridge night\n",
              "11    d12                   dogs loyal companions long hikes\n",
              "12    d13   dataset contains fifteen short sentences testing\n",
              "13    d14  reranking models reorder bm25 candidates using...\n",
              "14    d15                      dog sniffed cat ignored mouse"
            ]
          },
          "execution_count": 6,
          "metadata": {},
          "output_type": "execute_result"
        }
      ],
      "source": [
        "df"
      ]
    },
    {
      "cell_type": "markdown",
      "metadata": {
        "id": "kjMyvVH5yjQv"
      },
      "source": [
        "# Membuat File .jsonl"
      ]
    },
    {
      "cell_type": "code",
      "execution_count": null,
      "metadata": {
        "colab": {
          "base_uri": "https://localhost:8080/"
        },
        "id": "z7IvdGYkWuiG",
        "outputId": "f9932f9b-fbe3-453d-f9b7-9baa3ef06cde"
      },
      "outputs": [
        {
          "name": "stdout",
          "output_type": "stream",
          "text": [
            "Created directory: test\n"
          ]
        }
      ],
      "source": [
        "# Membuat file .jsonl\n",
        "output_file = 'test/index.jsonl'\n",
        "output_dir = os.path.dirname(output_file)\n",
        "\n",
        "if not os.path.exists(output_dir):\n",
        "    os.makedirs(output_dir)\n",
        "    print(f\"Created directory: {output_dir}\")\n",
        "\n",
        "with open(output_file, 'w') as f:\n",
        "    for index, row in df.iterrows():\n",
        "        json_record={\n",
        "            \"id\": row['doc_id'],\n",
        "            \"contents\": row['doc_text']\n",
        "        }\n",
        "        json_string = json.dumps(json_record)\n",
        "        f.write(json_string + '\\n')"
      ]
    },
    {
      "cell_type": "markdown",
      "metadata": {
        "id": "79pDoj0PymB7"
      },
      "source": [
        "# Indexing + Stemming (Porter)"
      ]
    },
    {
      "cell_type": "code",
      "execution_count": null,
      "metadata": {
        "colab": {
          "base_uri": "https://localhost:8080/"
        },
        "id": "lnGCr2RAWwoh",
        "outputId": "5e675fdb-664c-42c2-b004-1593e70bf9a4"
      },
      "outputs": [
        {
          "name": "stdout",
          "output_type": "stream",
          "text": [
            "WARNING: Using incubator modules: jdk.incubator.vector\n",
            "2025-08-24 13:57:24,674 INFO  [main] index.AbstractIndexer (AbstractIndexer.java:205) - Setting log level to INFO\n",
            "2025-08-24 13:57:24,678 INFO  [main] index.AbstractIndexer (AbstractIndexer.java:208) - ============ Loading Index Configuration ============\n",
            "2025-08-24 13:57:24,678 INFO  [main] index.AbstractIndexer (AbstractIndexer.java:209) - AbstractIndexer settings:\n",
            "2025-08-24 13:57:24,679 INFO  [main] index.AbstractIndexer (AbstractIndexer.java:210) -  + DocumentCollection path: /content/test\n",
            "2025-08-24 13:57:24,679 INFO  [main] index.AbstractIndexer (AbstractIndexer.java:211) -  + CollectionClass: JsonCollection\n",
            "2025-08-24 13:57:24,680 INFO  [main] index.AbstractIndexer (AbstractIndexer.java:212) -  + Index path: indexes/sample_collection_jsonl\n",
            "2025-08-24 13:57:24,680 INFO  [main] index.AbstractIndexer (AbstractIndexer.java:213) -  + Threads: 1\n",
            "2025-08-24 13:57:24,681 INFO  [main] index.AbstractIndexer (AbstractIndexer.java:214) -  + Optimize (merge segments)? false\n",
            "Aug 24, 2025 1:57:24 PM org.apache.lucene.store.MemorySegmentIndexInputProvider <init>\n",
            "INFO: Using MemorySegmentIndexInput with Java 21; to disable start with -Dorg.apache.lucene.store.MMapDirectory.enableMemorySegments=false\n",
            "2025-08-24 13:57:24,733 INFO  [main] index.IndexCollection (IndexCollection.java:246) - Using DefaultEnglishAnalyzer\n",
            "2025-08-24 13:57:24,734 INFO  [main] index.IndexCollection (IndexCollection.java:247) - Stemmer: porter\n",
            "2025-08-24 13:57:24,735 INFO  [main] index.IndexCollection (IndexCollection.java:248) - Keep stopwords? false\n",
            "2025-08-24 13:57:24,736 INFO  [main] index.IndexCollection (IndexCollection.java:249) - Stopwords file: null\n",
            "2025-08-24 13:57:24,915 INFO  [main] index.IndexCollection (IndexCollection.java:197) - IndexCollection settings:\n",
            "2025-08-24 13:57:24,915 INFO  [main] index.IndexCollection (IndexCollection.java:198) -  + Generator: DefaultLuceneDocumentGenerator\n",
            "2025-08-24 13:57:24,916 INFO  [main] index.IndexCollection (IndexCollection.java:199) -  + Language: en\n",
            "2025-08-24 13:57:24,917 INFO  [main] index.IndexCollection (IndexCollection.java:200) -  + Stemmer: porter\n",
            "2025-08-24 13:57:24,917 INFO  [main] index.IndexCollection (IndexCollection.java:201) -  + Keep stopwords? false\n",
            "2025-08-24 13:57:24,917 INFO  [main] index.IndexCollection (IndexCollection.java:202) -  + Stopwords: null\n",
            "2025-08-24 13:57:24,919 INFO  [main] index.IndexCollection (IndexCollection.java:203) -  + Store positions? true\n",
            "2025-08-24 13:57:24,921 INFO  [main] index.IndexCollection (IndexCollection.java:204) -  + Store docvectors? true\n",
            "2025-08-24 13:57:24,924 INFO  [main] index.IndexCollection (IndexCollection.java:205) -  + Store document \"contents\" field? false\n",
            "2025-08-24 13:57:24,924 INFO  [main] index.IndexCollection (IndexCollection.java:206) -  + Store document \"raw\" field? true\n",
            "2025-08-24 13:57:24,924 INFO  [main] index.IndexCollection (IndexCollection.java:207) -  + Additional fields to index: []\n",
            "2025-08-24 13:57:24,924 INFO  [main] index.IndexCollection (IndexCollection.java:208) -  + Whitelist: null\n",
            "2025-08-24 13:57:24,925 INFO  [main] index.IndexCollection (IndexCollection.java:209) -  + Pretokenized?: false\n",
            "2025-08-24 13:57:24,925 INFO  [main] index.IndexCollection (IndexCollection.java:210) -  + Codec: Lucene99\n",
            "2025-08-24 13:57:24,925 INFO  [main] index.AbstractIndexer (AbstractIndexer.java:238) - ============ Indexing Collection ============\n",
            "2025-08-24 13:57:24,928 INFO  [main] index.AbstractIndexer (AbstractIndexer.java:247) - Thread pool with 1 threads initialized.\n",
            "2025-08-24 13:57:24,928 INFO  [main] index.AbstractIndexer (AbstractIndexer.java:248) - 1 file found in /content/test\n",
            "2025-08-24 13:57:24,928 INFO  [main] index.AbstractIndexer (AbstractIndexer.java:249) - Starting to index...\n",
            "2025-08-24 13:57:25,401 INFO  [main] index.AbstractIndexer (AbstractIndexer.java:307) - Indexing Complete! 15 documents indexed\n",
            "2025-08-24 13:57:25,402 INFO  [main] index.AbstractIndexer (AbstractIndexer.java:308) - ============ Final Counter Values ============\n",
            "2025-08-24 13:57:25,402 INFO  [main] index.AbstractIndexer (AbstractIndexer.java:309) - indexed:               15\n",
            "2025-08-24 13:57:25,402 INFO  [main] index.AbstractIndexer (AbstractIndexer.java:310) - unindexable:            0\n",
            "2025-08-24 13:57:25,403 INFO  [main] index.AbstractIndexer (AbstractIndexer.java:311) - empty:                  0\n",
            "2025-08-24 13:57:25,403 INFO  [main] index.AbstractIndexer (AbstractIndexer.java:312) - skipped:                0\n",
            "2025-08-24 13:57:25,403 INFO  [main] index.AbstractIndexer (AbstractIndexer.java:313) - errors:                 0\n",
            "2025-08-24 13:57:25,411 INFO  [main] index.AbstractIndexer (AbstractIndexer.java:316) - Total 15 documents indexed in 00:00:00\n"
          ]
        }
      ],
      "source": [
        "# Indexing + stemming (porter)\n",
        "!python -m pyserini.index.lucene \\\n",
        "  --collection JsonCollection \\\n",
        "  --input /content/test \\\n",
        "  --index indexes/sample_collection_jsonl \\\n",
        "  --generator DefaultLuceneDocumentGenerator \\\n",
        "  --stemmer porter \\\n",
        "  --threads 1 \\\n",
        "  --storePositions --storeDocvectors --storeRaw"
      ]
    },
    {
      "cell_type": "markdown",
      "metadata": {
        "id": "DBtftufXypJ0"
      },
      "source": [
        "# Boolean Search/Retrieval"
      ]
    },
    {
      "cell_type": "code",
      "execution_count": 8,
      "metadata": {
        "id": "sH6ksNacXblA"
      },
      "outputs": [],
      "source": [
        "# Membuat searcher dan query\n",
        "from pyserini.search.lucene import LuceneSearcher, querybuilder\n",
        "\n",
        "searcher = LuceneSearcher('indexes/sample_collection_jsonl')\n",
        "\n",
        "queries = [\n",
        "  'dog AND cat',\n",
        "  'dog OR cat',\n",
        "  'dog AND NOT cat',\n",
        "  '(bm25 OR tf-idf) AND retrieval',\n",
        "  'dog OR (cat AND mouse)',\n",
        "  'retrieval AND (neural OR bm25)'\n",
        "]"
      ]
    },
    {
      "cell_type": "code",
      "execution_count": null,
      "metadata": {},
      "outputs": [],
      "source": [
        "# Mendefinisikan Logical Operator\n",
        "should = querybuilder.JBooleanClauseOccur['should'].value # OR\n",
        "must = querybuilder.JBooleanClauseOccur['must'].value # AND\n",
        "must_not = querybuilder.JBooleanClauseOccur['must_not'].value # NOT"
      ]
    },
    {
      "cell_type": "code",
      "execution_count": 10,
      "metadata": {},
      "outputs": [],
      "source": [
        "# Fungsi untuk print hasil\n",
        "def display_results(query, hits):\n",
        "  print(f'\\n{query}:')\n",
        "\n",
        "  if not hits:\n",
        "      print(\"Tidak ada dokumen yang sesuai.\")\n",
        "      return\n",
        "  \n",
        "  print('  ', 'Id', ' ', 'Score', ' ', 'Teks')\n",
        "  \n",
        "  for i in range(len(hits)):\n",
        "    print(f'{i+1:2} {hits[i].docid:4} {hits[i].score:.5f} {df[df['doc_id'] == hits[i].docid]['doc_text'].values[0]}')\n",
        "  print(\"-\"*100)"
      ]
    },
    {
      "cell_type": "markdown",
      "metadata": {},
      "source": [
        "## Membangun Query"
      ]
    },
    {
      "cell_type": "code",
      "execution_count": null,
      "metadata": {},
      "outputs": [],
      "source": [
        "# Query 1 - dog AND cat\n",
        "builder_1 = querybuilder.get_boolean_query_builder()\n",
        "builder_1.add(querybuilder.get_term_query(\"dog\"), must)\n",
        "builder_1.add(querybuilder.get_term_query(\"cat\"), must)\n",
        "query_1 = builder_1.build()\n",
        "hits_1 = searcher.search(query_1)\n",
        "\n",
        "# Query 2 - dog OR cat\n",
        "builder_2 = querybuilder.get_boolean_query_builder()\n",
        "builder_2.add(querybuilder.get_term_query(\"dog\"), should)\n",
        "builder_2.add(querybuilder.get_term_query(\"cat\"), should)\n",
        "query_2 = builder_2.build()\n",
        "hits_2 = searcher.search(query_2)\n",
        "\n",
        "# Query 3 - dog AND NOT cat\n",
        "builder_3 = querybuilder.get_boolean_query_builder()\n",
        "builder_3.add(querybuilder.get_term_query(\"dog\"), must)\n",
        "builder_3.add(querybuilder.get_term_query(\"cat\"), must_not)\n",
        "query_3 = builder_3.build()\n",
        "hits_3 = searcher.search(query_3)\n",
        "\n",
        "# Query 4 - (bm25 OR tf-idf) AND retrieval\n",
        "inner_builder_4 = querybuilder.get_boolean_query_builder()\n",
        "inner_builder_4.add(querybuilder.get_term_query(\"bm25\"), should)\n",
        "inner_builder_4.add(querybuilder.get_term_query(\"tf-idf\"), should)\n",
        "inner_query_4 = inner_builder_4.build()\n",
        "\n",
        "outer_builder_4 = querybuilder.get_boolean_query_builder()\n",
        "outer_builder_4.add(inner_query_4, must)\n",
        "outer_builder_4.add(querybuilder.get_term_query(\"retrieval\"), must)\n",
        "query_4 = outer_builder_4.build()\n",
        "hits_4 = searcher.search(query_4)\n",
        "\n",
        "# Query 5 - dog OR (cat AND mouse)\n",
        "inner_builder_5 = querybuilder.get_boolean_query_builder()\n",
        "inner_builder_5.add(querybuilder.get_term_query(\"cat\"), must)\n",
        "inner_builder_5.add(querybuilder.get_term_query(\"mouse\"), must)\n",
        "inner_query_5 = inner_builder_5.build()\n",
        "\n",
        "outer_builder_5 = querybuilder.get_boolean_query_builder()\n",
        "outer_builder_5.add(inner_query_5, should)\n",
        "outer_builder_5.add(querybuilder.get_term_query(\"dog\"), should)\n",
        "query_5 = outer_builder_5.build()\n",
        "hits_5 = searcher.search(query_5)\n",
        "\n",
        "# Query 6 - retrieval AND (neural OR bm25)\n",
        "inner_builder_6 = querybuilder.get_boolean_query_builder()\n",
        "inner_builder_6.add(querybuilder.get_term_query(\"neural\"), should)\n",
        "inner_builder_6.add(querybuilder.get_term_query(\"bm25\"), should)\n",
        "inner_query_6 = inner_builder_6.build()\n",
        "\n",
        "outer_builder_6 = querybuilder.get_boolean_query_builder()\n",
        "outer_builder_6.add(inner_query_6, must)\n",
        "outer_builder_6.add(querybuilder.get_term_query(\"retrieval\"), must)\n",
        "query_6 = outer_builder_6.build()\n",
        "hits_6 = searcher.search(query_6)"
      ]
    },
    {
      "cell_type": "markdown",
      "metadata": {},
      "source": [
        "## Print Hasil"
      ]
    },
    {
      "cell_type": "code",
      "execution_count": 12,
      "metadata": {
        "colab": {
          "base_uri": "https://localhost:8080/"
        },
        "id": "4XjqT7mVXs7_",
        "outputId": "3ba31234-e04a-4374-ea09-c9b373b71fdc"
      },
      "outputs": [
        {
          "name": "stdout",
          "output_type": "stream",
          "text": [
            "\n",
            "dog AND cat:\n",
            "   Id   Score   Teks\n",
            " 1 d7   1.41170 dog cat slept couch\n",
            " 2 d15  1.36290 dog sniffed cat ignored mouse\n",
            "----------------------------------------------------------------------------------------------------\n",
            "\n",
            "dog OR cat:\n",
            "   Id   Score   Teks\n",
            " 1 d7   1.41170 dog cat slept couch\n",
            " 2 d15  1.36290 dog sniffed cat ignored mouse\n",
            " 3 d1   0.68150 cat chased small mouse garden\n",
            " 4 d12  0.68150 dogs loyal companions long hikes\n",
            " 5 d2   0.68150 friendly dog played fetch river\n",
            " 6 d11  0.63740 black cat crossed old stone bridge night\n",
            "----------------------------------------------------------------------------------------------------\n",
            "\n",
            "dog AND NOT cat:\n",
            "   Id   Score   Teks\n",
            " 1 d12  0.68150 dogs loyal companions long hikes\n",
            " 2 d2   0.68150 friendly dog played fetch river\n",
            "----------------------------------------------------------------------------------------------------\n",
            "\n",
            "(bm25 OR tf-idf) AND retrieval:\n",
            "Tidak ada dokumen yang sesuai.\n",
            "\n",
            "dog OR (cat AND mouse):\n",
            "   Id   Score   Teks\n",
            " 1 d15  2.36020 dog sniffed cat ignored mouse\n",
            " 2 d1   1.67870 cat chased small mouse garden\n",
            " 3 d7   0.70580 dog cat slept couch\n",
            " 4 d12  0.68150 dogs loyal companions long hikes\n",
            " 5 d2   0.68150 friendly dog played fetch river\n",
            "----------------------------------------------------------------------------------------------------\n",
            "\n",
            "retrieval AND (neural OR bm25):\n",
            "   Id   Score   Teks\n",
            " 1 d6   1.95320 neural retrieval uses dense embeddings semantic search\n",
            "----------------------------------------------------------------------------------------------------\n"
          ]
        }
      ],
      "source": [
        "hits = [\n",
        "   hits_1,\n",
        "   hits_2,\n",
        "   hits_3,\n",
        "   hits_4,\n",
        "   hits_5,\n",
        "   hits_6\n",
        "]\n",
        "\n",
        "for i in range(len(queries)):\n",
        "   display_results(queries[i], hits[i])"
      ]
    }
  ],
  "metadata": {
    "colab": {
      "authorship_tag": "ABX9TyP9XQ0FR0qcx+ZoWcucZGM2",
      "include_colab_link": true,
      "provenance": []
    },
    "kernelspec": {
      "display_name": ".venv (3.12.5)",
      "language": "python",
      "name": "python3"
    },
    "language_info": {
      "codemirror_mode": {
        "name": "ipython",
        "version": 3
      },
      "file_extension": ".py",
      "mimetype": "text/x-python",
      "name": "python",
      "nbconvert_exporter": "python",
      "pygments_lexer": "ipython3",
      "version": "3.12.5"
    }
  },
  "nbformat": 4,
  "nbformat_minor": 0
}
